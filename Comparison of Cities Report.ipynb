{
 "cells": [
  {
   "cell_type": "markdown",
   "metadata": {},
   "source": [
    "# Capstone Project - The Battle of Neighborhoods"
   ]
  },
  {
   "cell_type": "markdown",
   "metadata": {},
   "source": [
    "## 1. Introduction to the Business Problem"
   ]
  },
  {
   "cell_type": "markdown",
   "metadata": {},
   "source": [
    "New York and Toronto are top 2 financial hubs of North America. Being financial hubs, both these cities offer immense opportunities for finance and economics professionals. Both these have many common features such as located North America, part of liberal democratic countries etc. So professionals from one of these cities can look for better career opportunities in the other city. Even within a single city, professionals look different opportunities and intra city relocation is also a possibility.\n",
    "\n",
    "When better opportunity arises then the relocation decision will have to factor in the availability and access to ammenities such as good restaurants, gym, parks, other lesuire places at same or similar level to that present area of residence. Both New York and Toronto are divided in Boroughs, which are further divided into Neighborhoods. So someone shifting from New York to Canada or vice-versa will need to find neighbourhoods that are similar in case of availability and access to above mentioned ammenities. \n",
    "\n",
    "Our task is to make use of available data to compare neighbourhoods based on the similarity in availability of these ammenities and find similar neighbourhoods. We will work at 2 levels. To begin with, given a neighbourhood we will find similar neighbourhood in different Borough in the same city. Then we will move on to solve the major question - given a neighbourhood in a New York/Toronto which are similar neighbourhoods in Tornto/New York.   "
   ]
  },
  {
   "cell_type": "markdown",
   "metadata": {},
   "source": [
    "## 2. Data Description"
   ]
  },
  {
   "cell_type": "markdown",
   "metadata": {},
   "source": [
    "The data that will be used and how it will be used in this project:\n",
    "\n",
    "1. The Borough and Neighbourhood details for New York is obtained from [Spatial Data Repository of NYU](https://geo.nyu.edu/catalog/nyu_2451_34572). The .json file has coordinates of the Boroughs/Neighbourhoods of New York. \n",
    "2. The Borough and Neighbourhood details for Toronto will be obtained from [Wikipedia](https://en.wikipedia.org/wiki/List_of_postal_codes_of_Canada:_M). This data needs to be cleaned. We drop the rows where only borough is “Not assigned”. If Neighbouthood is \"Not assigned\" but Borough is assigned then we make corresponding Borough as Neighbourhood. If Postal Code and Borough of two or more rows same, we merge the rows and merged neighbourhood will be separated by comma “,”. Latitude and longitude information can be downloaded from [here](https://cocl.us/Geospatial_data).\n",
    "3. The details of ammenities in each neighborhood for both the city will be obtained using [Foursquare API](https://developer.foursquare.com/)."
   ]
  },
  {
   "cell_type": "code",
   "execution_count": null,
   "metadata": {},
   "outputs": [],
   "source": []
  }
 ],
 "metadata": {
  "kernelspec": {
   "display_name": "Python 3",
   "language": "python",
   "name": "python3"
  },
  "language_info": {
   "codemirror_mode": {
    "name": "ipython",
    "version": 3
   },
   "file_extension": ".py",
   "mimetype": "text/x-python",
   "name": "python",
   "nbconvert_exporter": "python",
   "pygments_lexer": "ipython3",
   "version": "3.7.3"
  }
 },
 "nbformat": 4,
 "nbformat_minor": 2
}
