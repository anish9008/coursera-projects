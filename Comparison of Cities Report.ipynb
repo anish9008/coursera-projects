{
 "cells": [
  {
   "cell_type": "markdown",
   "metadata": {},
   "source": [
    "# Capstone Project - The Battle of Neighborhoods"
   ]
  },
  {
   "cell_type": "markdown",
   "metadata": {},
   "source": [
    "## 1. Introduction"
   ]
  },
  {
   "cell_type": "markdown",
   "metadata": {},
   "source": [
    "## 1.1 Background"
   ]
  },
  {
   "cell_type": "markdown",
   "metadata": {},
   "source": [
    "The New York metropolitan area is one of the world's most populous megacities with more than 8 million residents. The large population and high population density (27,751/sq mi) offers a huge market for wide range of businesses. Moreover, the iconic New York City Subway system is the largest rapid transit system in the world. This subway system is widely used by New Yorkers.\n",
    "\n",
    "When setting up business a clear study of market is to be done to understand the risks and opportunties. Data analytics and Machine learning can be used to develop insights from data, thereby helping in better decision making.\n",
    "\n",
    "NYC Foods is planning to set up a network of food trucks across NYC. They plan to capitalise on the high population and robust Subway network of the city. They plan to set up the food trucks near subway stations, and provide low cost fast food to busy subway users. The eventual plan is to have food trucks all across NYC. But to begin with they have decided to start in the borough of The Bronx."
   ]
  },
  {
   "cell_type": "markdown",
   "metadata": {},
   "source": [
    "## 1.2 The Problem"
   ]
  },
  {
   "cell_type": "markdown",
   "metadata": {},
   "source": [
    "Our client NYC Foods has entrusted us with the project of narrowing down on the most suitable subway stations in The Bronx, where they can put up the first set of food trucks. The best stations will be the ones with low concentration of other food trucks, food stalls or fast food joints near the station as these are our client's direct competitors. The presence of restaurants, diners etc. does not matter as our client's target customers are those who prefer fast food at low cost. So, we need to use data and cluster the subway stations in The Bronx based on the concentration of our client's competitors near the station."
   ]
  },
  {
   "cell_type": "markdown",
   "metadata": {},
   "source": [
    "## 2. Data Description"
   ]
  },
  {
   "cell_type": "markdown",
   "metadata": {},
   "source": [
    "## 2.1 Data Sources"
   ]
  },
  {
   "cell_type": "markdown",
   "metadata": {},
   "source": [
    "The data that will be used and how it will be used in this project:\n",
    "\n",
    "1. The details all subway stations in New York City is obtained from [Spatial Data Repository of NYU](https://geo.nyu.edu/catalog/nyu-2451-34503). The .json file has names and coordinates of all the subway stations of New York. \n",
    "2. Our client has decided to begin operations in the borough of The Bronx. The names of stations in The Bronx will be obtained from [Metropolitan Transportation Authority](https://new.mta.info/maps/subway/mta-neighborhood-maps/bronx). \n",
    "3. The details of our competitors (fast food joints, food trucks and food stalls) near each subway station will be obtained using [Foursquare API](https://developer.foursquare.com/)."
   ]
  },
  {
   "cell_type": "markdown",
   "metadata": {},
   "source": [
    "## 2.2 Data Cleaning"
   ]
  },
  {
   "cell_type": "markdown",
   "metadata": {},
   "source": [
    "1. From the NYC station json file, a Data frame needs to be created which will have station name, logitude and latitude.\n",
    "2. To obtain the names of stations in Bronx, the names from the website needs to be cleaned. It has to be done keeping in mind the names in the json file. The periods, hyphen, some names etc needs to corrected to match the json file. This cleaned file will used to narrow down only Bronx stations from the Data Frame.      "
   ]
  }
 ],
 "metadata": {
  "kernelspec": {
   "display_name": "Python 3",
   "language": "python",
   "name": "python3"
  },
  "language_info": {
   "codemirror_mode": {
    "name": "ipython",
    "version": 3
   },
   "file_extension": ".py",
   "mimetype": "text/x-python",
   "name": "python",
   "nbconvert_exporter": "python",
   "pygments_lexer": "ipython3",
   "version": "3.7.3"
  }
 },
 "nbformat": 4,
 "nbformat_minor": 2
}
